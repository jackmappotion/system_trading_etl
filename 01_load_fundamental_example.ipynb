{
 "cells": [
  {
   "cell_type": "code",
   "execution_count": 13,
   "metadata": {},
   "outputs": [],
   "source": [
    "import pandas as pd\n",
    "\n",
    "import dart_fss\n",
    "from dart.dart_extractor import DartExtractor\n",
    "\n",
    "from private import Private"
   ]
  },
  {
   "cell_type": "code",
   "execution_count": 3,
   "metadata": {},
   "outputs": [],
   "source": [
    "api_key = \"your_dart_api_key\"\n",
    "api_key = Private.dart_api_key"
   ]
  },
  {
   "cell_type": "code",
   "execution_count": 4,
   "metadata": {},
   "outputs": [
    {
     "data": {
      "application/vnd.jupyter.widget-view+json": {
       "model_id": "5570341035de4967ba3e9f01a15f8ed2",
       "version_major": 2,
       "version_minor": 0
      },
      "text/plain": [
       "Output()"
      ]
     },
     "metadata": {},
     "output_type": "display_data"
    },
    {
     "data": {
      "application/vnd.jupyter.widget-view+json": {
       "model_id": "c0f05e3664e346a6a08619a1f03fe7b3",
       "version_major": 2,
       "version_minor": 0
      },
      "text/plain": [
       "Output()"
      ]
     },
     "metadata": {},
     "output_type": "display_data"
    },
    {
     "data": {
      "application/vnd.jupyter.widget-view+json": {
       "model_id": "fb9d5c6273174854becdded3d7cc71d6",
       "version_major": 2,
       "version_minor": 0
      },
      "text/plain": [
       "Output()"
      ]
     },
     "metadata": {},
     "output_type": "display_data"
    }
   ],
   "source": [
    "dart_fss.set_api_key(api_key)\n",
    "\n",
    "corp_list = dart_fss.get_corp_list()\n",
    "corp_df = pd.DataFrame([corp.info for corp in corp_list])\n",
    "\n",
    "private_corp_df = corp_df[corp_df[\"stock_code\"].isna()]\n",
    "public_corp_df = corp_df[~corp_df[\"stock_code\"].isna()]\n",
    "\n",
    "public_corp_info_df = public_corp_df.loc[:, [\"stock_code\", \"corp_name\", \"sector\", \"product\"]]\n",
    "public_corp_codes = list(set(public_corp_df[\"corp_code\"]))"
   ]
  },
  {
   "cell_type": "code",
   "execution_count": 5,
   "metadata": {},
   "outputs": [],
   "source": [
    "dart_extractor = DartExtractor(api_key=api_key)"
   ]
  },
  {
   "cell_type": "code",
   "execution_count": 6,
   "metadata": {},
   "outputs": [
    {
     "name": "stdout",
     "output_type": "stream",
     "text": [
      "Error decoding JSON from resp\n"
     ]
    }
   ],
   "source": [
    "year = \"2022\"\n",
    "reprt = \"11011\"\n",
    "fundamentals = dart_extractor.load_fundamentals(corps=public_corp_codes, year=year, reprt=reprt)"
   ]
  },
  {
   "cell_type": "code",
   "execution_count": 9,
   "metadata": {},
   "outputs": [],
   "source": [
    "def format_value2numeric(value):\n",
    "    if value == \"-\":\n",
    "        return None\n",
    "    return int(value.replace(\",\", \"\"))"
   ]
  },
  {
   "cell_type": "code",
   "execution_count": 11,
   "metadata": {},
   "outputs": [],
   "source": [
    "cfs_fundamentals = fundamentals[fundamentals[\"fs_div\"] == \"CFS\"].copy()\n",
    "cfs_fundamentals[\"reprt_date\"] = pd.to_datetime(cfs_fundamentals[\"rcept_no\"].apply(lambda x: x[:8]))\n",
    "cfs_fundamentals[\"reprt_year\"] = cfs_fundamentals[\"bsns_year\"]\n",
    "\n",
    "cfs_fundamentals = cfs_fundamentals.loc[\n",
    "    :,\n",
    "    [\n",
    "        \"reprt_date\",\n",
    "        \"reprt_code\",\n",
    "        \"reprt_year\",\n",
    "        \"stock_code\",\n",
    "        \"fs_div\",\n",
    "        \"account_nm\",\n",
    "        \"thstrm_amount\",\n",
    "        \"frmtrm_amount\",\n",
    "        \"bfefrmtrm_amount\",\n",
    "    ],\n",
    "]\n",
    "cfs_fundamentals[\"thstrm_amount\"] = cfs_fundamentals[\"thstrm_amount\"].apply(format_value2numeric)\n",
    "cfs_fundamentals[\"frmtrm_amount\"] = cfs_fundamentals[\"frmtrm_amount\"].apply(format_value2numeric)\n",
    "cfs_fundamentals[\"bfefrmtrm_amount\"] = cfs_fundamentals[\"bfefrmtrm_amount\"].apply(\n",
    "    format_value2numeric\n",
    ")\n",
    "cfs_fundamentals.to_csv(\"./data/cfs_fundamental.csv\")"
   ]
  },
  {
   "cell_type": "code",
   "execution_count": 12,
   "metadata": {},
   "outputs": [],
   "source": [
    "ofs_fundamentals = fundamentals[fundamentals[\"fs_div\"] == \"OFS\"].copy()\n",
    "ofs_fundamentals[\"reprt_date\"] = pd.to_datetime(ofs_fundamentals[\"rcept_no\"].apply(lambda x: x[:8]))\n",
    "ofs_fundamentals[\"reprt_year\"] = ofs_fundamentals[\"bsns_year\"]\n",
    "\n",
    "ofs_fundamentals = ofs_fundamentals.loc[\n",
    "    :,\n",
    "    [\n",
    "        \"reprt_date\",\n",
    "        \"reprt_code\",\n",
    "        \"reprt_year\",\n",
    "        \"stock_code\",\n",
    "        \"fs_div\",\n",
    "        \"account_nm\",\n",
    "        \"thstrm_amount\",\n",
    "        \"frmtrm_amount\",\n",
    "        \"bfefrmtrm_amount\",\n",
    "    ],\n",
    "]\n",
    "\n",
    "ofs_fundamentals[\"thstrm_amount\"] = ofs_fundamentals[\"thstrm_amount\"].apply(format_value2numeric)\n",
    "ofs_fundamentals[\"frmtrm_amount\"] = ofs_fundamentals[\"frmtrm_amount\"].apply(format_value2numeric)\n",
    "ofs_fundamentals[\"bfefrmtrm_amount\"] = ofs_fundamentals[\"bfefrmtrm_amount\"].apply(\n",
    "    format_value2numeric\n",
    ")\n",
    "ofs_fundamentals.to_csv(\"./data/ofs_fundamental.csv\")"
   ]
  },
  {
   "cell_type": "code",
   "execution_count": 15,
   "metadata": {},
   "outputs": [],
   "source": [
    "public_corp_info_df.to_csv(\"./data/corp_info_df.csv\")"
   ]
  }
 ],
 "metadata": {
  "kernelspec": {
   "display_name": "quant_trading",
   "language": "python",
   "name": "python3"
  },
  "language_info": {
   "codemirror_mode": {
    "name": "ipython",
    "version": 3
   },
   "file_extension": ".py",
   "mimetype": "text/x-python",
   "name": "python",
   "nbconvert_exporter": "python",
   "pygments_lexer": "ipython3",
   "version": "3.10.13"
  }
 },
 "nbformat": 4,
 "nbformat_minor": 2
}
