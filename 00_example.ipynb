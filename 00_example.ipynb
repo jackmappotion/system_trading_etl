{
 "cells": [
  {
   "cell_type": "code",
   "execution_count": 1,
   "metadata": {},
   "outputs": [],
   "source": [
    "import datetime as dt\n",
    "import pandas as pd"
   ]
  },
  {
   "cell_type": "code",
   "execution_count": 3,
   "metadata": {},
   "outputs": [],
   "source": [
    "from private import Private"
   ]
  },
  {
   "cell_type": "code",
   "execution_count": 4,
   "metadata": {},
   "outputs": [
    {
     "data": {
      "application/vnd.jupyter.widget-view+json": {
       "model_id": "9a8dfee8419648efbb7d1e5f96714aac",
       "version_major": 2,
       "version_minor": 0
      },
      "text/plain": [
       "Output()"
      ]
     },
     "metadata": {},
     "output_type": "display_data"
    },
    {
     "data": {
      "application/vnd.jupyter.widget-view+json": {
       "model_id": "36355e39181d47bcb25275a28fa341a3",
       "version_major": 2,
       "version_minor": 0
      },
      "text/plain": [
       "Output()"
      ]
     },
     "metadata": {},
     "output_type": "display_data"
    },
    {
     "data": {
      "application/vnd.jupyter.widget-view+json": {
       "model_id": "ee7f76afa06a4d608655a89014601833",
       "version_major": 2,
       "version_minor": 0
      },
      "text/plain": [
       "Output()"
      ]
     },
     "metadata": {},
     "output_type": "display_data"
    }
   ],
   "source": [
    "from etl_tools.fundamental.dart import DartFss\n",
    "\n",
    "dart_fss = DartFss(Private.dart_api_key)\n",
    "\n",
    "corps = dart_fss.load_corps(only_public=True)\n",
    "corp_codes = list(set(corps[\"corp_code\"]))"
   ]
  },
  {
   "cell_type": "code",
   "execution_count": 7,
   "metadata": {},
   "outputs": [],
   "source": [
    "from etl_tools.fundamental.dart import DartExtractor\n",
    "\n",
    "dart_extractor = DartExtractor(Private.dart_api_key)\n",
    "reprt = \"11011\"\n",
    "\n",
    "year = \"2023\"\n",
    "fundamentals_v1 = dart_extractor.load_fundamentals(corps=corp_codes, year=year, reprt=reprt)\n",
    "left_corp_codes = list(set(corp_codes) - set(fundamentals_v1[\"corp_code\"]))\n",
    "\n",
    "year = \"2022\"\n",
    "fundamentals_v2 = dart_extractor.load_fundamentals(corps=left_corp_codes, year=year, reprt=reprt)\n",
    "fundamentals = pd.concat([fundamentals_v1, fundamentals_v2], axis=0)"
   ]
  },
  {
   "cell_type": "code",
   "execution_count": 10,
   "metadata": {},
   "outputs": [],
   "source": [
    "from etl_tools.fundamental.dart_preproc import FundamentalPreProc\n",
    "\n",
    "fundamental_preproc = FundamentalPreProc(fundamentals)\n",
    "\n",
    "cfs_fundamental = fundamental_preproc(\"CFS\")\n",
    "ofs_fundamental = fundamental_preproc(\"OFS\")"
   ]
  },
  {
   "cell_type": "code",
   "execution_count": 11,
   "metadata": {},
   "outputs": [],
   "source": [
    "from etl_tools.technical.fdr import FdrExtractor\n",
    "\n",
    "fdr_extractor = FdrExtractor()\n",
    "stocks = fdr_extractor.load_stocks(only_major=True)\n",
    "\n"
   ]
  },
  {
   "cell_type": "code",
   "execution_count": 20,
   "metadata": {},
   "outputs": [],
   "source": [
    "from etl_tools.technical.fdr_preproc import StockPreProc\n",
    "\n",
    "\n",
    "stock_preproc = StockPreProc(stocks)\n",
    "stocks = stock_preproc()"
   ]
  },
  {
   "cell_type": "code",
   "execution_count": 21,
   "metadata": {},
   "outputs": [
    {
     "name": "stderr",
     "output_type": "stream",
     "text": [
      "100%|██████████| 2616/2616 [05:38<00:00,  7.73it/s]\n"
     ]
    }
   ],
   "source": [
    "stock_codes = list(set(stocks[\"stock_code\"]))\n",
    "end_date = dt.date.today() - dt.timedelta(days=1)\n",
    "start_date = end_date - dt.timedelta(days=365 * 5)\n",
    "\n",
    "ohlcvs = fdr_extractor.load_ohlcvs(stock_codes, start_date, end_date)"
   ]
  },
  {
   "cell_type": "code",
   "execution_count": null,
   "metadata": {},
   "outputs": [],
   "source": [
    "from etl_tools.technical.fdr_preproc import OhlcvPreProc\n",
    "\n",
    "ohlcv_preproc = OhlcvPreProc(ohlcvs)\n",
    "ohlcvs = ohlcv_preproc()"
   ]
  }
 ],
 "metadata": {
  "kernelspec": {
   "display_name": "quant_trading",
   "language": "python",
   "name": "python3"
  },
  "language_info": {
   "codemirror_mode": {
    "name": "ipython",
    "version": 3
   },
   "file_extension": ".py",
   "mimetype": "text/x-python",
   "name": "python",
   "nbconvert_exporter": "python",
   "pygments_lexer": "ipython3",
   "version": "3.10.13"
  }
 },
 "nbformat": 4,
 "nbformat_minor": 2
}
