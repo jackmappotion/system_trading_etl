{
 "cells": [
  {
   "cell_type": "code",
   "execution_count": 17,
   "metadata": {},
   "outputs": [],
   "source": [
    "import datetime as dt\n",
    "\n",
    "from tqdm import tqdm\n",
    "import FinanceDataReader as fdr_broker"
   ]
  },
  {
   "cell_type": "code",
   "execution_count": 18,
   "metadata": {},
   "outputs": [],
   "source": [
    "krx_stocks = fdr_broker.StockListing(\"KRX\")\n",
    "\n",
    "major_stocks = krx_stocks[krx_stocks[\"Market\"].isin([\"KOSPI\", \"KOSDAQ\"])]\n",
    "stock_codes = list(set(major_stocks[\"Code\"]))"
   ]
  },
  {
   "cell_type": "code",
   "execution_count": 20,
   "metadata": {},
   "outputs": [
    {
     "name": "stderr",
     "output_type": "stream",
     "text": [
      "100%|██████████| 2615/2615 [05:06<00:00,  8.53it/s]\n"
     ]
    }
   ],
   "source": [
    "ohlcv_list = list()\n",
    "end_date = dt.date.today() - dt.timedelta(days=1)\n",
    "start_date = end_date - dt.timedelta(days=365 * 5)\n",
    "\n",
    "for stock_code in tqdm(stock_codes):\n",
    "    try:\n",
    "        _ohlcv = fdr_broker.DataReader(symbol=stock_code, start=start_date, end=end_date)\n",
    "        _ohlcv[\"stock_code\"] = stock_code\n",
    "        ohlcv_list.append(_ohlcv)\n",
    "    except:\n",
    "        print(f\"loading {stock_code} is impossible\")"
   ]
  },
  {
   "cell_type": "code",
   "execution_count": 21,
   "metadata": {},
   "outputs": [],
   "source": [
    "import pandas as pd\n",
    "\n",
    "pd.concat(ohlcv_list, axis=0).to_csv(\"./data/ohlcv.csv\")"
   ]
  },
  {
   "cell_type": "code",
   "execution_count": null,
   "metadata": {},
   "outputs": [],
   "source": []
  }
 ],
 "metadata": {
  "kernelspec": {
   "display_name": "quant_trading",
   "language": "python",
   "name": "python3"
  },
  "language_info": {
   "codemirror_mode": {
    "name": "ipython",
    "version": 3
   },
   "file_extension": ".py",
   "mimetype": "text/x-python",
   "name": "python",
   "nbconvert_exporter": "python",
   "pygments_lexer": "ipython3",
   "version": "3.10.13"
  }
 },
 "nbformat": 4,
 "nbformat_minor": 2
}
